{
 "cells": [
  {
   "cell_type": "markdown",
   "id": "f1d55826-ab30-440c-9e08-5f0d4925f599",
   "metadata": {
    "tags": []
   },
   "source": [
    "### Without pipelines"
   ]
  },
  {
   "cell_type": "code",
   "execution_count": null,
   "id": "7fdfa5b2-d271-402e-ab7d-6e025eff9491",
   "metadata": {},
   "outputs": [],
   "source": [
    "# Categoricals to be encoded\n",
    "    # Already encoded: bedrooms, bathrooms, floors, grade, condition\n",
    "    # These have already been encoded but may need to be adjusted to 0-based encoding if it provides more consistency across the categorical variables or simply performs better with sklearn's algorithms\n",
    "    # Many of them will need to be transformed so that floats are rounded up for simplicity. I.e., 1.5 bathrooms represents 1 bathroom and an en suite bathroom but this can be considered as 2 bathrooms\n",
    "    # In the case of floors, 1.5 floors may be one floor and a loft but this can be rounded down to 1 floor, perhaps.\n",
    "    \n",
    "# Numeric: I Assume the rest will be numeric and simply needs to be scaled. I am using linear regression and this algorithm will utilise gradient decent to optimise parameter estimates. \n",
    "# Continous features that have varying magnitudes need to be scaled to avoid causing issues (such as much slower convergence rates or leading to suboptimal solutions. I don't think suboptimal solutions is as much of an issue here as LR's loss func is convex. \n",
    "# Do I need to scale the target variable?"
   ]
  },
  {
   "cell_type": "code",
   "execution_count": null,
   "id": "695a1f3f-805e-4073-b1cf-4c24601ccc04",
   "metadata": {
    "tags": []
   },
   "outputs": [],
   "source": [
    "# Checking the distribution of bedrooms\n",
    "price_df['bedrooms'].value_counts()"
   ]
  },
  {
   "cell_type": "code",
   "execution_count": null,
   "id": "bfe22ccf-cfd1-4fd0-8f40-787403b9ef31",
   "metadata": {},
   "outputs": [],
   "source": [
    "# Any instances that have less than 1 bedroom or more than 6 bedrooms will be removed\n",
    "# upper limit set by ~3 standard deviations above the mean\n",
    "\n",
    "rooms_3_std = 3 * np.std(price_df['bedrooms'])\n",
    "rooms_3_std_above = price_df['bedrooms'].mean() + rooms_3_std\n",
    "\n",
    "\n",
    "print(f\"Houses that have more than {round(rooms_3_std_above)} rooms are 3 standard deviations above the mean and will be removed.\")\n",
    "price_df = price_df[price_df['bedrooms'] <= 6]"
   ]
  },
  {
   "cell_type": "code",
   "execution_count": null,
   "id": "620fc1b6-c801-4e44-ae02-b190f769d500",
   "metadata": {},
   "outputs": [],
   "source": [
    "# Checking the distribution of bathrooms\n",
    "price_df['bathrooms'].value_counts()"
   ]
  },
  {
   "cell_type": "code",
   "execution_count": null,
   "id": "5b6e93bf-9836-41e1-b1c8-c3b7a0fd64cb",
   "metadata": {},
   "outputs": [],
   "source": [
    "# All values for bathrooms will be rounded down as decimal values represent rooms with a toilet but no shower.\n",
    "# Any instances that have less than 1 bathroom or more than 5 bathrooms will be removed\n",
    "# Upper limit set by ~3 standard deviations above the mean\n",
    "\n",
    "price_df['bathrooms'] = price_df['bathrooms'].round().astype(int)\n",
    "price_df.head()\n",
    "\n",
    "bath_3_std = 3 * np.std(price_df['bathrooms'])\n",
    "bath_3_std_above = price_df['bathrooms'].mean() + rooms_3_std\n",
    "\n",
    "print(f\"Houses that have more than {round(bath_3_std_above)} bathrooms are 3 standard deviations above the mean and will be removed.\")\n",
    "price_df = price_df[price_df['bathrooms'] <= 5]"
   ]
  },
  {
   "cell_type": "code",
   "execution_count": null,
   "id": "30a569f7-f62d-4ca2-aa46-40fea509351e",
   "metadata": {},
   "outputs": [],
   "source": [
    "# Checking the distribution of floors\n",
    "price_df['floors'].value_counts()"
   ]
  },
  {
   "cell_type": "code",
   "execution_count": null,
   "id": "5dd556a6-c64c-42ad-88b3-8c97c72ec3e6",
   "metadata": {},
   "outputs": [],
   "source": [
    "# As homes with .5 floors are defined as split-level or bi-level floors they will be rounded up for simplicity\n",
    "price_df['floors'] = price_df['floors'].round().astype(int)"
   ]
  },
  {
   "cell_type": "code",
   "execution_count": null,
   "id": "82bfd2b3-17ce-4d46-98b2-5e9b23910142",
   "metadata": {},
   "outputs": [],
   "source": [
    "# Checking the distribution of grade (no changes will be made)\n",
    "price_df['grade'].value_counts()"
   ]
  },
  {
   "cell_type": "code",
   "execution_count": null,
   "id": "13a169fd-44ab-4afc-b344-29b453732259",
   "metadata": {},
   "outputs": [],
   "source": [
    "# Checking the distribution of condition (no changes will be made)\n",
    "price_df['condition'].value_counts()"
   ]
  },
  {
   "cell_type": "code",
   "execution_count": null,
   "id": "3a4614ca-e4c1-4a54-bf60-235456b7b43e",
   "metadata": {},
   "outputs": [],
   "source": [
    "print(price_df.shape)\n",
    "price_df.head()"
   ]
  },
  {
   "cell_type": "code",
   "execution_count": null,
   "id": "f33291fa-0d6c-4d08-aa88-22b760a6043c",
   "metadata": {},
   "outputs": [],
   "source": [
    "def reorder_col(data, col_name, after):\n",
    "    '''\n",
    "    Function will take in a dataframe and move a column specified by name to another position in the dataframe after any other column also specified by name.\n",
    "    I will use this after creating new features and would like to quickly place them elsewhere in the existing dataframe - usually just after the features they have been engineered from.\n",
    "    \n",
    "    Return: The input dataframe with new column order\n",
    "    '''\n",
    "    \n",
    "    col_values = data.pop(col_name) #remove the column\n",
    "    position = data.columns.get_loc(after) #Index location of the column I want to insert the new column after\n",
    "    data.insert(position+1, col_name, col_values) #Insert after the specified column\n",
    "    \n",
    "    return data"
   ]
  },
  {
   "cell_type": "code",
   "execution_count": null,
   "id": "c67c12c7-bc27-44f3-8ea2-7834f81783b1",
   "metadata": {},
   "outputs": [],
   "source": [
    "# yr_built converted into 'age' (at the time the dataset was produced? 2015)\n",
    "# The primary use of knowing the year a home was built is knowing how old it is. This can be captured by calculating the age. \n",
    "# I think it is more suitable to represent this as age instead of a measure of time as there is no time component to this analysis/model.\n",
    "# Therefor I believe it makes more sense to measure these variables as a count in years instead of an instance in time.\n",
    "'''\n",
    "Scaling the Year Built\n",
    "Scaling the year a house was built can be done, but it might not always provide meaningful insights. For instance, the difference between the years 2000 and 2020 \n",
    "is significant for understanding a house's condition, but the raw \"year\" values (e.g., 1800 vs. 2000) don't directly convey age-related insights unless interpreted \n",
    "relative to the present year. Moreover, scaled years (e.g., \"0.85\" or \"-1.2\" after standardization) are abstract and may confuse the model if the relationship to \n",
    "the target variable is better understood through \"age.\"\n",
    "\n",
    "Scaling the Age of the House\n",
    "Scaling the age of the house (i.e., current year minus year built) is generally more meaningful. Age provides a clearer representation of a house's potential condition, \n",
    "depreciation, or relevance in the market. For example, a house built 20 years ago (age 20) versus 50 years ago (age 50) offers a direct interpretation of how old the \n",
    "property is, which is often more relevant for the target variable (e.g., price).\n",
    "\n",
    "If the problem specifically involves historical trends or if there is a time series component to the analysis then this feature would be more suitable, probably once converted\n",
    "into a datetime object.\n",
    "'''\n",
    "\n",
    "\n",
    "price_df['age'] = 2015 - price_df['yr_built']\n",
    "reorder_col(data=price_df, col_name='age', after='yr_built') #Reorder the columns so age immediately follows yr_built\n",
    "\n",
    "price_df.head()"
   ]
  },
  {
   "cell_type": "code",
   "execution_count": null,
   "id": "5092f703-ca73-4a75-9c8a-ae0224edcc99",
   "metadata": {},
   "outputs": [],
   "source": [
    "def renovated_within(data, yrs_within):\n",
    "    '''\n",
    "    this function will take 2 arguements: \n",
    "        1. The first is the dataframe.\n",
    "        2. The second will specify a threshold for the number of years that have passed since the house was last renovated (relative to 2015).\n",
    "    \n",
    "    If the house has been renovated within the specified number of years before 2015 the result will be a 1, otherwise it will be a 0.\n",
    "    All homes that have not been renovated at all will result in a 0.\n",
    "    \n",
    "    The resulting output will be a new dataframe with an added binary feature specifying whether the house had been renovated \n",
    "    within that specified number of years.\n",
    "    '''\n",
    "    \n",
    "    renovated_list = []\n",
    "    for year in data['yr_renovated']:\n",
    "        if year != 0: #If the house has been renovated then calculate how long ago\n",
    "            yrs_since_renov = 2015-year\n",
    "            \n",
    "            if yrs_since_renov <= yrs_within: #If renovations occured within specified time frame then 1, representing yes\n",
    "                renovated_list.append(1)\n",
    "            else:\n",
    "                renovated_list.append(0)\n",
    "        \n",
    "        else: #If the house has not been renovated at all then 0, representing no\n",
    "            renovated_list.append(0)\n",
    "    \n",
    "    # Add new column to the dataframe\n",
    "    col_name = f\"renovated_within_{yrs_within}_yrs\"\n",
    "    data[col_name] = renovated_list\n",
    "    \n",
    "    return data"
   ]
  },
  {
   "cell_type": "code",
   "execution_count": null,
   "id": "cc6004f9-b309-41d9-ab20-ac9fedc77594",
   "metadata": {},
   "outputs": [],
   "source": [
    "# For more simplicity so that I don't have to deal with defining the difference between a house that had been renovated that year and one that \n",
    "# had never been renovated I may just convert this feature into a binary variable akin to 'renovated in the past 10 years' & 'past 5 years'\n",
    "\n",
    "# Create new binary columns that specify whether the house has been renovated within 10 years and 5 years, respectively.\n",
    "renovated_within(data=price_df, yrs_within=10)\n",
    "renovated_within(data=price_df, yrs_within=5)\n",
    "\n",
    "# Reorder columns such that the new columns above immediately follow the 'yr_renovated' column\n",
    "reorder_col(data=price_df, col_name='renovated_within_10_yrs', after='yr_renovated')\n",
    "reorder_col(data=price_df, col_name='renovated_within_5_yrs', after='renovated_within_10_yrs')\n",
    "\n",
    "price_df.head()"
   ]
  },
  {
   "cell_type": "code",
   "execution_count": null,
   "id": "54bc6b37-34a7-4763-b568-ee29b6bd8c1d",
   "metadata": {},
   "outputs": [],
   "source": [
    "# Scale continuous variables with z-score standardisation\n",
    "# sqft_living, sqft_lot, sqft_above, sqft_basement, age, lat, long, sqft_living15, sqft_lot15\n",
    "\n",
    "scaler = StandardScaler()\n",
    "\n",
    "cols_to_scale = ['sqft_living', 'sqft_lot', 'sqft_above', 'sqft_basement', 'age', 'lat', 'long', 'sqft_living15', 'sqft_lot15']\n",
    "price_df[cols_to_scale] = scaler.fit_transform(price_df[cols_to_scale])"
   ]
  },
  {
   "cell_type": "code",
   "execution_count": null,
   "id": "c565254c-dd6f-4b76-b35c-011624771c77",
   "metadata": {
    "tags": []
   },
   "outputs": [],
   "source": [
    "price_df.head()"
   ]
  }
 ],
 "metadata": {
  "kernelspec": {
   "display_name": "Python 3 (ipykernel)",
   "language": "python",
   "name": "python3"
  },
  "language_info": {
   "codemirror_mode": {
    "name": "ipython",
    "version": 3
   },
   "file_extension": ".py",
   "mimetype": "text/x-python",
   "name": "python",
   "nbconvert_exporter": "python",
   "pygments_lexer": "ipython3",
   "version": "3.9.20"
  }
 },
 "nbformat": 4,
 "nbformat_minor": 5
}
